{
 "cells": [
  {
   "cell_type": "markdown",
   "metadata": {
    "id": "NNHCioVKi-q8"
   },
   "source": [
    "<h1 align=\"center\">МЧС: прогнозирование степени пожароопасности</h1>"
   ]
  },
  {
   "cell_type": "markdown",
   "metadata": {
    "id": "aaTMnb6JjNvy"
   },
   "source": [
    "> **ЗАДАЧА:** разработать алгоритм, выдающий прогноз возникновения пожара (0 или 1) на 1, 2, 3, 4, 5, 6, 7 и 8 дней вперёд для заданной ячейки на определённую дату.  \n",
    "> - ссылка задачи на [github Sber AI](https://github.com/sberbank-ai/no_fire_with_ai_aij2021)"
   ]
  },
  {
   "cell_type": "markdown",
   "metadata": {},
   "source": [
    "<h1 align=\"center\">Оглавление</h1>\n",
    "\n",
    "- [1. Загрузка данных](#part1) <br>\n",
    "    - [1.1 Климатические данные](#part1.1) <br>\n",
    "    - [1.2 Таргеты](#part1.2) <br>\n",
    "    - [1.3 OpenStreetMap](#part1.3) <br>\n",
    "- [2. Генерация признаков](#part2) <br>\n",
    "    - [2.1 Pooling features](#part2.1) <br>\n",
    "    - [2.2 Categorical признаки даты](#part2.2) <br>\n",
    "    - [2.3 Гео признаки](#part2.3) <br>\n",
    "- [3. Обучение моделей](#part3) <br>\n",
    "    - [Модель для каждого таргета](#part3.2) <br>\n",
    "- [4. sample_submission.zip](#part4) <br>"
   ]
  },
  {
   "cell_type": "markdown",
   "metadata": {},
   "source": [
    "---"
   ]
  },
  {
   "cell_type": "markdown",
   "metadata": {
    "id": "EVEwIdjpeb0x"
   },
   "source": [
    "<h1 align=\"center\">0. Импорт необходимых библиотек</h1>"
   ]
  },
  {
   "cell_type": "markdown",
   "metadata": {},
   "source": [
    "> **NOTE**: Для некоторых библиотек потребуется установка дополнительных зависимостей. Более детальную информацию вы сможете найти в нашем **Dockerfile** и **requirements.txt**"
   ]
  },
  {
   "cell_type": "code",
   "execution_count": 1,
   "metadata": {
    "id": "TX8VSmcST7BK"
   },
   "outputs": [],
   "source": [
    "import os\n",
    "import pickle\n",
    "import cfgrib\n",
    "import numpy as np\n",
    "import pandas as pd\n",
    "import geopandas as gpd\n",
    "import cartopy.crs as ccrs\n",
    "import matplotlib.pyplot as plt\n",
    "from catboost import Pool, CatBoostClassifier\n",
    "from OSMPythonTools.nominatim import Nominatim\n",
    "from OSMPythonTools.overpass import overpassQueryBuilder, Overpass\n",
    "\n",
    "# модули из репозитория https://github.com/sberbank-ai/no_fire_with_ai_aij2021\n",
    "import helpers, preprocessing, features_generation, prepare_train\n",
    "from solution import FEATURES\n",
    "\n",
    "import warnings\n",
    "warnings.simplefilter(\"ignore\")\n",
    "plt.rcParams[\"figure.figsize\"] = (16,8)"
   ]
  },
  {
   "cell_type": "markdown",
   "metadata": {},
   "source": [
    "---"
   ]
  },
  {
   "cell_type": "markdown",
   "metadata": {
    "id": "QlGZN7j9eKvC"
   },
   "source": [
    "<a id='part1'></a>\n",
    "<h1 align=\"center\">1. Загрузка данных</h1>"
   ]
  },
  {
   "cell_type": "markdown",
   "metadata": {},
   "source": [
    "> **NOTE**: Для воспроизводимости бейзлайна, проверьте наличие файлов по пути **input/**:\n",
    "```\n",
    "├── city_town_village.geojson\n",
    "├── ERA5_data\n",
    "│   ├── evaporation1_2020.grib\n",
    "│   ├── evaporation1_2021.grib\n",
    "│   ├── evaporation2_2020.grib\n",
    "│   ├── evaporation2_2021.grib\n",
    "│   ├── heat1_2020.grib\n",
    "│   ├── heat1_2021.grib\n",
    "│   ├── heat2_2020.grib\n",
    "│   ├── heat2_2021.grib\n",
    "│   ├── temp_2018.grib\n",
    "│   ├── temp_2020.grib\n",
    "│   ├── temp_2021.grib\n",
    "│   ├── vegetation_2020.grib\n",
    "│   ├── vegetation_2021.grib\n",
    "│   ├── wind_2020.grib\n",
    "│   └── wind_2021.grib\n",
    "├── train.csv\n",
    "├── train_raw.csv\n",
    "└── sample_test.csv\n",
    "```"
   ]
  },
  {
   "cell_type": "markdown",
   "metadata": {
    "id": "djlozDusXsvS"
   },
   "source": [
    "<a id='part1.1'></a>\n",
    "<h2 align=\"center\">1.1 Климатические данные</h2>"
   ]
  },
  {
   "cell_type": "markdown",
   "metadata": {
    "id": "v9xizznG4xyG"
   },
   "source": [
    "### Пример работы с файлом `.grib`"
   ]
  },
  {
   "cell_type": "code",
   "execution_count": 2,
   "metadata": {
    "id": "qL0J4fZESw5F"
   },
   "outputs": [],
   "source": [
    "ds = cfgrib.open_datasets('input/ERA5_data/temp_2018.grib')"
   ]
  },
  {
   "cell_type": "code",
   "execution_count": 3,
   "metadata": {},
   "outputs": [
    {
     "data": {
      "text/plain": [
       "3"
      ]
     },
     "execution_count": 3,
     "metadata": {},
     "output_type": "execute_result"
    }
   ],
   "source": [
    "len(ds)"
   ]
  },
  {
   "cell_type": "markdown",
   "metadata": {
    "id": "_b_JF3afdQEF"
   },
   "source": [
    "Файл представляет из себя несколько объектов формата `xarray.Dataset`, например, файл `temp_2018.grib` состоит из 3 объектов. Объекты содержат значения признаков для трех измерений **(latitude: 406, longitude: 1501, time: 365)**:\n",
    "- Первый объект содержит следующий набор признаков:\n",
    "    - stl1: Soil temperature level 1\n",
    "- Второй объект содержит:\n",
    "    - t2m: 2 metre temperature\n",
    "    - d2m: 2 metre dewpoint temperature\n",
    "- Третий объект содержит:\n",
    "    - skt: Skin temperature\n",
    "\n",
    "> **NOTE**: Данные признаки являются измерениями на определенную дату, в определенной широте и долготе, частота признаков 0.1 градус"
   ]
  },
  {
   "cell_type": "code",
   "execution_count": 4,
   "metadata": {
    "colab": {
     "base_uri": "https://localhost:8080/"
    },
    "id": "v_KzRrAlh8oW",
    "outputId": "1053eace-c1db-4fb4-ebef-23ee683820a8"
   },
   "outputs": [
    {
     "data": {
      "text/plain": [
       "(Timestamp('2018-01-01 14:00:00'), Timestamp('2018-12-31 14:00:00'))"
      ]
     },
     "execution_count": 4,
     "metadata": {},
     "output_type": "execute_result"
    }
   ],
   "source": [
    "ds[0].indexes['time'].min(), ds[0].indexes['time'].max()"
   ]
  },
  {
   "cell_type": "markdown",
   "metadata": {
    "id": "8rQ3V7MLpvZ1"
   },
   "source": [
    "### Парсим куб из `xarray.Dataset` из файла `temp_2018.grib`"
   ]
  },
  {
   "cell_type": "markdown",
   "metadata": {},
   "source": [
    "Для дальнейшей работы с климатическими признаками, можно парсить объекты `xarray.Dataset`, например, функциями `parse_dims` и `parse_cube`\n",
    "\n",
    "> **NOTE**: \n",
    "> - Результат работы функции `parse_cube`: `словарь` ключ - название признака, значение - **3-мерный numpy массив** (день, ширина, долгота)\n",
    "> - Результат работы функции `parse_dims`: **1-мерные массивы** с информацией о значениях осей 3-мерного массива."
   ]
  },
  {
   "cell_type": "code",
   "execution_count": 8,
   "metadata": {
    "id": "cdLv_2vgqGfC"
   },
   "outputs": [],
   "source": [
    "times, latitudes, longitudes = preprocessing.parse_dims(ds)"
   ]
  },
  {
   "cell_type": "markdown",
   "metadata": {
    "id": "j-jJD2s-q_HC"
   },
   "source": [
    "Наблюдаем, что широта отсортирована по убыванию, что не естественно для матричного представления, учтем это"
   ]
  },
  {
   "cell_type": "markdown",
   "metadata": {
    "id": "g0WBBvvPXVdO"
   },
   "source": [
    "<a id='part1.2'></a>\n",
    "<h2 align=\"center\">1.2 Таргеты</h2>"
   ]
  },
  {
   "cell_type": "markdown",
   "metadata": {
    "id": "-7PsIk2T15qg"
   },
   "source": [
    "### Загружаем таргеты"
   ]
  },
  {
   "cell_type": "markdown",
   "metadata": {},
   "source": [
    "####  `train_raw.csv`\n",
    "Сырой датасет для обучения моделей.\n",
    "- **dt** - Текущая дата наблюдения;\n",
    "- **lon** - Координата конкретной точки пожара - `долготы`;\n",
    "- **lat** - Координата конкретной точки пожара - `широты`;\n",
    "- **type_id** - Код типа пожара;\n",
    "- **type_name** - Наименование типа пожара;"
   ]
  },
  {
   "cell_type": "code",
   "execution_count": 11,
   "metadata": {},
   "outputs": [
    {
     "name": "stdout",
     "output_type": "stream",
     "text": [
      "(547763, 5)\n"
     ]
    },
    {
     "data": {
      "text/html": [
       "<div>\n",
       "<style scoped>\n",
       "    .dataframe tbody tr th:only-of-type {\n",
       "        vertical-align: middle;\n",
       "    }\n",
       "\n",
       "    .dataframe tbody tr th {\n",
       "        vertical-align: top;\n",
       "    }\n",
       "\n",
       "    .dataframe thead th {\n",
       "        text-align: right;\n",
       "    }\n",
       "</style>\n",
       "<table border=\"1\" class=\"dataframe\">\n",
       "  <thead>\n",
       "    <tr style=\"text-align: right;\">\n",
       "      <th></th>\n",
       "      <th>dt</th>\n",
       "      <th>lon</th>\n",
       "      <th>lat</th>\n",
       "      <th>type_id</th>\n",
       "      <th>type_name</th>\n",
       "    </tr>\n",
       "  </thead>\n",
       "  <tbody>\n",
       "    <tr>\n",
       "      <th>0</th>\n",
       "      <td>2012-03-13</td>\n",
       "      <td>131.586613</td>\n",
       "      <td>47.866183</td>\n",
       "      <td>4</td>\n",
       "      <td>Природный пожар</td>\n",
       "    </tr>\n",
       "    <tr>\n",
       "      <th>1</th>\n",
       "      <td>2012-03-13</td>\n",
       "      <td>131.588507</td>\n",
       "      <td>47.880940</td>\n",
       "      <td>4</td>\n",
       "      <td>Природный пожар</td>\n",
       "    </tr>\n",
       "    <tr>\n",
       "      <th>2</th>\n",
       "      <td>2012-03-13</td>\n",
       "      <td>131.987129</td>\n",
       "      <td>48.497325</td>\n",
       "      <td>3</td>\n",
       "      <td>Лесной пожар</td>\n",
       "    </tr>\n",
       "    <tr>\n",
       "      <th>3</th>\n",
       "      <td>2012-03-13</td>\n",
       "      <td>131.903087</td>\n",
       "      <td>43.627665</td>\n",
       "      <td>4</td>\n",
       "      <td>Природный пожар</td>\n",
       "    </tr>\n",
       "    <tr>\n",
       "      <th>4</th>\n",
       "      <td>2012-03-13</td>\n",
       "      <td>131.570614</td>\n",
       "      <td>47.858103</td>\n",
       "      <td>4</td>\n",
       "      <td>Природный пожар</td>\n",
       "    </tr>\n",
       "  </tbody>\n",
       "</table>\n",
       "</div>"
      ],
      "text/plain": [
       "          dt         lon        lat  type_id        type_name\n",
       "0 2012-03-13  131.586613  47.866183        4  Природный пожар\n",
       "1 2012-03-13  131.588507  47.880940        4  Природный пожар\n",
       "2 2012-03-13  131.987129  48.497325        3     Лесной пожар\n",
       "3 2012-03-13  131.903087  43.627665        4  Природный пожар\n",
       "4 2012-03-13  131.570614  47.858103        4  Природный пожар"
      ]
     },
     "execution_count": 11,
     "metadata": {},
     "output_type": "execute_result"
    }
   ],
   "source": [
    "train_raw = pd.read_csv('input/train_raw.csv', parse_dates=['dt'])\n",
    "print(train_raw.shape)\n",
    "train_raw.head()"
   ]
  },
  {
   "cell_type": "code",
   "execution_count": 12,
   "metadata": {},
   "outputs": [
    {
     "data": {
      "text/plain": [
       "(Timestamp('2012-03-13 00:00:00'), Timestamp('2021-04-22 00:00:00'))"
      ]
     },
     "execution_count": 12,
     "metadata": {},
     "output_type": "execute_result"
    }
   ],
   "source": [
    "train_raw.dt.min(), train_raw.dt.max()"
   ]
  },
  {
   "cell_type": "markdown",
   "metadata": {},
   "source": [
    "####  `train.csv`\n",
    "Подготовленный датасет для обучения моделей. Получен с помощью функции `prepare_train.make_train` из сырого датасета для обучения.\n",
    "- **dt** - Текущая дата наблюдения;\n",
    "- **lon_min** - Нижняя граница ячейки наблюдения по `долготе`;\n",
    "- **lat_min** - Нижняя граница ячейки наблюдения по `широте`;\n",
    "- **lon_max** - Верхняя граница ячейки наблюдения по `долготе`;\n",
    "- **lat_max** - Верхняя граница ячейки наблюдения по `широте`;\n",
    "- **lon** - Координата конкретной точки пожара - `долготы` **(при наличии)**;\n",
    "- **lat** - Координата конкретной точки пожара - `широты` **(при наличии)**;\n",
    "- **grid_index** - Индекс ячейки **(подробности ниже)**;\n",
    "- **type_id** - Код типа пожара **(при наличии)**;\n",
    "- **type_name** - Наименование типа пожара **(при наличии)**;\n",
    "- **is_land** - Метка того, был ли пожар на этой ячейке за всю историю (суша или нет);\n",
    "--------------\n",
    "- **infire_day_1** - `Целевая переменная` вероятность пожара на следующий день;\n",
    "- **infire_day_2** - `Целевая переменная` вероятность пожара через 2 дня;\n",
    "- **infire_day_3** - `Целевая переменная` вероятность пожара через 3 дня;\n",
    "- **infire_day_4** - `Целевая переменная` вероятность пожара через 4 дня;\n",
    "- **infire_day_5** - `Целевая переменная` вероятность пожара через 5 дней;\n",
    "- **infire_day_6** - `Целевая переменная` вероятность пожара через 6 дней;\n",
    "- **infire_day_7** - `Целевая переменная` вероятность пожара через 7 дней;\n",
    "- **infire_day_8** - `Целевая переменная` вероятность пожара через 8 дней;\n",
    "\n",
    "> **NOTE**:\n",
    "> - Размер ячейки 0.2 x 0.2 широты - долготы\n",
    "> - В рамках этого бейзлайна, выбираем данные для обучения **только** с 2020 года"
   ]
  },
  {
   "cell_type": "markdown",
   "metadata": {},
   "source": [
    "Для удобства добавления признаков к нашим наблюдениям можно использовать `grid_index`, который заменит границы ячейки одним числом, которое вычисляется по простой формуле:\n",
    "\n",
    "$$\\mathcal grid\\_index = row_i * col_n + col_i,$$  \n",
    "в нашем случае всего столбцов (`col_n`) - **750**, всего строк - **203**.\n",
    "\n",
    "> **NOTE**: В качестве начальных значений для индексации будем использовать **минимальные** значения ширины и долготы в файлах `.grib`, по той причине - потому что они меньше, чем минимальные значения в таргетах"
   ]
  },
  {
   "cell_type": "markdown",
   "metadata": {
    "id": "IjSH3WHXymZV"
   },
   "source": [
    "![](https://habrastorage.org/webt/ji/cf/js/jicfjs3yfotvsvwxsp85eqifxtq.jpeg)"
   ]
  },
  {
   "cell_type": "code",
   "execution_count": 13,
   "metadata": {},
   "outputs": [
    {
     "data": {
      "text/plain": [
       "(41.0, 81.5, 19.0, 169.0)"
      ]
     },
     "execution_count": 13,
     "metadata": {},
     "output_type": "execute_result"
    }
   ],
   "source": [
    "lat_min = round(latitudes.min(), 1)\n",
    "lat_max = round(latitudes.max(), 1)\n",
    "\n",
    "lon_min = round(longitudes.min(), 1)\n",
    "lon_max = round(longitudes.max(), 1)\n",
    "\n",
    "lat_min, lat_max, lon_min, lon_max"
   ]
  },
  {
   "cell_type": "code",
   "execution_count": 14,
   "metadata": {},
   "outputs": [
    {
     "name": "stdout",
     "output_type": "stream",
     "text": [
      "203 750\n"
     ]
    }
   ],
   "source": [
    "step = 0.2\n",
    "array_of_lats = np.arange(lat_min, lat_max, step).round(1)\n",
    "array_of_lons = np.arange(lon_min, lon_max, step).round(1)\n",
    "print(len(array_of_lats), len(array_of_lons))"
   ]
  },
  {
   "cell_type": "code",
   "execution_count": 15,
   "metadata": {
    "colab": {
     "base_uri": "https://localhost:8080/",
     "height": 0
    },
    "id": "3okwPKtko7Pj",
    "outputId": "e8038c8c-a951-40db-8e31-05656a0efd8e",
    "scrolled": true
   },
   "outputs": [
    {
     "name": "stdout",
     "output_type": "stream",
     "text": [
      "(488103, 19)\n"
     ]
    },
    {
     "data": {
      "text/html": [
       "<div>\n",
       "<style scoped>\n",
       "    .dataframe tbody tr th:only-of-type {\n",
       "        vertical-align: middle;\n",
       "    }\n",
       "\n",
       "    .dataframe tbody tr th {\n",
       "        vertical-align: top;\n",
       "    }\n",
       "\n",
       "    .dataframe thead th {\n",
       "        text-align: right;\n",
       "    }\n",
       "</style>\n",
       "<table border=\"1\" class=\"dataframe\">\n",
       "  <thead>\n",
       "    <tr style=\"text-align: right;\">\n",
       "      <th></th>\n",
       "      <th>dt</th>\n",
       "      <th>lon_min</th>\n",
       "      <th>lat_min</th>\n",
       "      <th>lon_max</th>\n",
       "      <th>lat_max</th>\n",
       "      <th>lon</th>\n",
       "      <th>lat</th>\n",
       "      <th>grid_index</th>\n",
       "      <th>type_id</th>\n",
       "      <th>type_name</th>\n",
       "      <th>is_land</th>\n",
       "      <th>infire_day_1</th>\n",
       "      <th>infire_day_2</th>\n",
       "      <th>infire_day_3</th>\n",
       "      <th>infire_day_4</th>\n",
       "      <th>infire_day_5</th>\n",
       "      <th>infire_day_6</th>\n",
       "      <th>infire_day_7</th>\n",
       "      <th>infire_day_8</th>\n",
       "    </tr>\n",
       "  </thead>\n",
       "  <tbody>\n",
       "    <tr>\n",
       "      <th>0</th>\n",
       "      <td>2020-05-04</td>\n",
       "      <td>47.6</td>\n",
       "      <td>41.0</td>\n",
       "      <td>47.8</td>\n",
       "      <td>41.2</td>\n",
       "      <td>NaN</td>\n",
       "      <td>NaN</td>\n",
       "      <td>143</td>\n",
       "      <td>NaN</td>\n",
       "      <td>NaN</td>\n",
       "      <td>False</td>\n",
       "      <td>0</td>\n",
       "      <td>0</td>\n",
       "      <td>0</td>\n",
       "      <td>0</td>\n",
       "      <td>0</td>\n",
       "      <td>0</td>\n",
       "      <td>0</td>\n",
       "      <td>0</td>\n",
       "    </tr>\n",
       "    <tr>\n",
       "      <th>1</th>\n",
       "      <td>2021-02-24</td>\n",
       "      <td>47.2</td>\n",
       "      <td>41.2</td>\n",
       "      <td>47.4</td>\n",
       "      <td>41.4</td>\n",
       "      <td>NaN</td>\n",
       "      <td>NaN</td>\n",
       "      <td>891</td>\n",
       "      <td>NaN</td>\n",
       "      <td>NaN</td>\n",
       "      <td>False</td>\n",
       "      <td>0</td>\n",
       "      <td>0</td>\n",
       "      <td>0</td>\n",
       "      <td>0</td>\n",
       "      <td>0</td>\n",
       "      <td>0</td>\n",
       "      <td>0</td>\n",
       "      <td>0</td>\n",
       "    </tr>\n",
       "    <tr>\n",
       "      <th>2</th>\n",
       "      <td>2021-02-27</td>\n",
       "      <td>47.2</td>\n",
       "      <td>41.2</td>\n",
       "      <td>47.4</td>\n",
       "      <td>41.4</td>\n",
       "      <td>NaN</td>\n",
       "      <td>NaN</td>\n",
       "      <td>891</td>\n",
       "      <td>NaN</td>\n",
       "      <td>NaN</td>\n",
       "      <td>False</td>\n",
       "      <td>0</td>\n",
       "      <td>0</td>\n",
       "      <td>0</td>\n",
       "      <td>0</td>\n",
       "      <td>0</td>\n",
       "      <td>0</td>\n",
       "      <td>0</td>\n",
       "      <td>0</td>\n",
       "    </tr>\n",
       "    <tr>\n",
       "      <th>3</th>\n",
       "      <td>2021-04-01</td>\n",
       "      <td>47.4</td>\n",
       "      <td>41.2</td>\n",
       "      <td>47.6</td>\n",
       "      <td>41.4</td>\n",
       "      <td>NaN</td>\n",
       "      <td>NaN</td>\n",
       "      <td>892</td>\n",
       "      <td>NaN</td>\n",
       "      <td>NaN</td>\n",
       "      <td>True</td>\n",
       "      <td>0</td>\n",
       "      <td>0</td>\n",
       "      <td>0</td>\n",
       "      <td>0</td>\n",
       "      <td>0</td>\n",
       "      <td>0</td>\n",
       "      <td>0</td>\n",
       "      <td>0</td>\n",
       "    </tr>\n",
       "    <tr>\n",
       "      <th>4</th>\n",
       "      <td>2020-03-14</td>\n",
       "      <td>47.6</td>\n",
       "      <td>41.2</td>\n",
       "      <td>47.8</td>\n",
       "      <td>41.4</td>\n",
       "      <td>NaN</td>\n",
       "      <td>NaN</td>\n",
       "      <td>893</td>\n",
       "      <td>NaN</td>\n",
       "      <td>NaN</td>\n",
       "      <td>True</td>\n",
       "      <td>0</td>\n",
       "      <td>0</td>\n",
       "      <td>0</td>\n",
       "      <td>0</td>\n",
       "      <td>0</td>\n",
       "      <td>0</td>\n",
       "      <td>0</td>\n",
       "      <td>0</td>\n",
       "    </tr>\n",
       "  </tbody>\n",
       "</table>\n",
       "</div>"
      ],
      "text/plain": [
       "          dt  lon_min  lat_min  lon_max  lat_max  lon  lat  grid_index  \\\n",
       "0 2020-05-04     47.6     41.0     47.8     41.2  NaN  NaN         143   \n",
       "1 2021-02-24     47.2     41.2     47.4     41.4  NaN  NaN         891   \n",
       "2 2021-02-27     47.2     41.2     47.4     41.4  NaN  NaN         891   \n",
       "3 2021-04-01     47.4     41.2     47.6     41.4  NaN  NaN         892   \n",
       "4 2020-03-14     47.6     41.2     47.8     41.4  NaN  NaN         893   \n",
       "\n",
       "   type_id type_name  is_land  infire_day_1  infire_day_2  infire_day_3  \\\n",
       "0      NaN       NaN    False             0             0             0   \n",
       "1      NaN       NaN    False             0             0             0   \n",
       "2      NaN       NaN    False             0             0             0   \n",
       "3      NaN       NaN     True             0             0             0   \n",
       "4      NaN       NaN     True             0             0             0   \n",
       "\n",
       "   infire_day_4  infire_day_5  infire_day_6  infire_day_7  infire_day_8  \n",
       "0             0             0             0             0             0  \n",
       "1             0             0             0             0             0  \n",
       "2             0             0             0             0             0  \n",
       "3             0             0             0             0             0  \n",
       "4             0             0             0             0             0  "
      ]
     },
     "execution_count": 15,
     "metadata": {},
     "output_type": "execute_result"
    }
   ],
   "source": [
    "# train = prepare_train.make_train('input/train_raw.csv',\n",
    "#                                  array_of_lons, array_of_lats, step,\n",
    "#                                  start_date='2020-01-01')\n",
    "train = pd.read_csv('input/train.csv', parse_dates=['dt'])\n",
    "print(train.shape)\n",
    "train.head()"
   ]
  },
  {
   "cell_type": "code",
   "execution_count": 16,
   "metadata": {
    "colab": {
     "base_uri": "https://localhost:8080/"
    },
    "id": "DPu6pxFQpBaT",
    "outputId": "71bd8065-d43b-4fb5-ccba-f37acfa52dcc"
   },
   "outputs": [
    {
     "data": {
      "text/plain": [
       "(Timestamp('2020-01-01 00:00:00'), Timestamp('2021-04-22 00:00:00'))"
      ]
     },
     "execution_count": 16,
     "metadata": {},
     "output_type": "execute_result"
    }
   ],
   "source": [
    "train.dt.min(), train.dt.max()"
   ]
  },
  {
   "cell_type": "markdown",
   "metadata": {},
   "source": [
    "####  `sample_test.csv`\n",
    "Пример датасета для создания паблик-лидерборда.\n",
    "- **id** - Id строки для оценки предсказаний;\n",
    "- **dt** - Текущая дата наблюдения;\n",
    "- **lon_min** - Нижняя граница ячейки наблюдения по `долготе`;\n",
    "- **lat_min** - Нижняя граница ячейки наблюдения по `широте`;\n",
    "- **lon_max** - Верхняя граница ячейки наблюдения по `долготе`;\n",
    "- **lat_max** - Верхняя граница ячейки наблюдения по `широте`;\n",
    "- **lon** - Координата конкретной точки пожара - `долготы` **(при наличии)**;\n",
    "- **lat** - Координата конкретной точки пожара - `широты` **(при наличии)**;\n",
    "- **grid_index** - Индекс ячейки;\n",
    "- **type_id** - Код типа пожара **(при наличии)**;\n",
    "- **type_name** - Наименование типа пожара **(при наличии)**;"
   ]
  },
  {
   "cell_type": "code",
   "execution_count": 17,
   "metadata": {
    "colab": {
     "base_uri": "https://localhost:8080/",
     "height": 0
    },
    "id": "XeqQ3ToX80Q5",
    "outputId": "9ce87afb-2f20-44fe-9c45-ec31acebbd3d"
   },
   "outputs": [
    {
     "name": "stdout",
     "output_type": "stream",
     "text": [
      "(5, 11)\n"
     ]
    },
    {
     "data": {
      "text/html": [
       "<div>\n",
       "<style scoped>\n",
       "    .dataframe tbody tr th:only-of-type {\n",
       "        vertical-align: middle;\n",
       "    }\n",
       "\n",
       "    .dataframe tbody tr th {\n",
       "        vertical-align: top;\n",
       "    }\n",
       "\n",
       "    .dataframe thead th {\n",
       "        text-align: right;\n",
       "    }\n",
       "</style>\n",
       "<table border=\"1\" class=\"dataframe\">\n",
       "  <thead>\n",
       "    <tr style=\"text-align: right;\">\n",
       "      <th></th>\n",
       "      <th>id</th>\n",
       "      <th>dt</th>\n",
       "      <th>lon_min</th>\n",
       "      <th>lat_min</th>\n",
       "      <th>lon_max</th>\n",
       "      <th>lat_max</th>\n",
       "      <th>lon</th>\n",
       "      <th>lat</th>\n",
       "      <th>grid_index</th>\n",
       "      <th>type_id</th>\n",
       "      <th>type_name</th>\n",
       "    </tr>\n",
       "  </thead>\n",
       "  <tbody>\n",
       "    <tr>\n",
       "      <th>0</th>\n",
       "      <td>0</td>\n",
       "      <td>2021-05-26</td>\n",
       "      <td>47.6</td>\n",
       "      <td>41.0</td>\n",
       "      <td>47.8</td>\n",
       "      <td>41.2</td>\n",
       "      <td>NaN</td>\n",
       "      <td>NaN</td>\n",
       "      <td>143</td>\n",
       "      <td>NaN</td>\n",
       "      <td>NaN</td>\n",
       "    </tr>\n",
       "    <tr>\n",
       "      <th>1</th>\n",
       "      <td>1</td>\n",
       "      <td>2021-06-13</td>\n",
       "      <td>47.6</td>\n",
       "      <td>41.0</td>\n",
       "      <td>47.8</td>\n",
       "      <td>41.2</td>\n",
       "      <td>NaN</td>\n",
       "      <td>NaN</td>\n",
       "      <td>143</td>\n",
       "      <td>NaN</td>\n",
       "      <td>NaN</td>\n",
       "    </tr>\n",
       "    <tr>\n",
       "      <th>2</th>\n",
       "      <td>2</td>\n",
       "      <td>2021-06-30</td>\n",
       "      <td>47.6</td>\n",
       "      <td>41.0</td>\n",
       "      <td>47.8</td>\n",
       "      <td>41.2</td>\n",
       "      <td>NaN</td>\n",
       "      <td>NaN</td>\n",
       "      <td>143</td>\n",
       "      <td>NaN</td>\n",
       "      <td>NaN</td>\n",
       "    </tr>\n",
       "    <tr>\n",
       "      <th>3</th>\n",
       "      <td>3</td>\n",
       "      <td>2021-05-22</td>\n",
       "      <td>47.8</td>\n",
       "      <td>41.2</td>\n",
       "      <td>48.0</td>\n",
       "      <td>41.4</td>\n",
       "      <td>NaN</td>\n",
       "      <td>NaN</td>\n",
       "      <td>894</td>\n",
       "      <td>NaN</td>\n",
       "      <td>NaN</td>\n",
       "    </tr>\n",
       "    <tr>\n",
       "      <th>4</th>\n",
       "      <td>4</td>\n",
       "      <td>2021-05-11</td>\n",
       "      <td>47.2</td>\n",
       "      <td>41.6</td>\n",
       "      <td>47.4</td>\n",
       "      <td>41.8</td>\n",
       "      <td>NaN</td>\n",
       "      <td>NaN</td>\n",
       "      <td>2391</td>\n",
       "      <td>NaN</td>\n",
       "      <td>NaN</td>\n",
       "    </tr>\n",
       "  </tbody>\n",
       "</table>\n",
       "</div>"
      ],
      "text/plain": [
       "   id         dt  lon_min  lat_min  lon_max  lat_max  lon  lat  grid_index  \\\n",
       "0   0 2021-05-26     47.6     41.0     47.8     41.2  NaN  NaN         143   \n",
       "1   1 2021-06-13     47.6     41.0     47.8     41.2  NaN  NaN         143   \n",
       "2   2 2021-06-30     47.6     41.0     47.8     41.2  NaN  NaN         143   \n",
       "3   3 2021-05-22     47.8     41.2     48.0     41.4  NaN  NaN         894   \n",
       "4   4 2021-05-11     47.2     41.6     47.4     41.8  NaN  NaN        2391   \n",
       "\n",
       "   type_id  type_name  \n",
       "0      NaN        NaN  \n",
       "1      NaN        NaN  \n",
       "2      NaN        NaN  \n",
       "3      NaN        NaN  \n",
       "4      NaN        NaN  "
      ]
     },
     "execution_count": 17,
     "metadata": {},
     "output_type": "execute_result"
    }
   ],
   "source": [
    "sample_test = pd.read_csv('input/sample_test.csv', parse_dates=['dt'])\n",
    "print(sample_test.shape)\n",
    "sample_test.head()"
   ]
  },
  {
   "cell_type": "markdown",
   "metadata": {
    "id": "QfbaBUS8mEzs"
   },
   "source": [
    "### Разделим выборку `train` на `train/val` датасеты"
   ]
  },
  {
   "cell_type": "code",
   "execution_count": 18,
   "metadata": {
    "id": "muWNGOyslZaj"
   },
   "outputs": [
    {
     "data": {
      "text/plain": [
       "((414455, 19), (73648, 19))"
      ]
     },
     "execution_count": 18,
     "metadata": {},
     "output_type": "execute_result"
    }
   ],
   "source": [
    "val = train[train.dt >= \"2021-02-01\"].reset_index(drop=True)\n",
    "train = train[train.dt < \"2021-02-01\"].reset_index(drop=True)\n",
    "train.shape, val.shape"
   ]
  },
  {
   "cell_type": "markdown",
   "metadata": {
    "id": "vPFtP_pZmvcX"
   },
   "source": [
    "### Посмотрим на распределение таргетов:"
   ]
  },
  {
   "cell_type": "code",
   "execution_count": 19,
   "metadata": {
    "colab": {
     "base_uri": "https://localhost:8080/",
     "height": 0
    },
    "id": "0wTdHrKBmXQU",
    "outputId": "e20470da-0ed7-4ed4-82cd-5967d158ce07"
   },
   "outputs": [
    {
     "data": {
      "text/html": [
       "<div>\n",
       "<style scoped>\n",
       "    .dataframe tbody tr th:only-of-type {\n",
       "        vertical-align: middle;\n",
       "    }\n",
       "\n",
       "    .dataframe tbody tr th {\n",
       "        vertical-align: top;\n",
       "    }\n",
       "\n",
       "    .dataframe thead th {\n",
       "        text-align: right;\n",
       "    }\n",
       "</style>\n",
       "<table border=\"1\" class=\"dataframe\">\n",
       "  <thead>\n",
       "    <tr style=\"text-align: right;\">\n",
       "      <th></th>\n",
       "      <th>infire_day_1</th>\n",
       "      <th>infire_day_2</th>\n",
       "      <th>infire_day_3</th>\n",
       "      <th>infire_day_4</th>\n",
       "      <th>infire_day_5</th>\n",
       "      <th>infire_day_6</th>\n",
       "      <th>infire_day_7</th>\n",
       "      <th>infire_day_8</th>\n",
       "    </tr>\n",
       "  </thead>\n",
       "  <tbody>\n",
       "    <tr>\n",
       "      <th>0</th>\n",
       "      <td>362251</td>\n",
       "      <td>362248</td>\n",
       "      <td>362244</td>\n",
       "      <td>362240</td>\n",
       "      <td>362233</td>\n",
       "      <td>362223</td>\n",
       "      <td>362223</td>\n",
       "      <td>362219</td>\n",
       "    </tr>\n",
       "    <tr>\n",
       "      <th>1</th>\n",
       "      <td>52204</td>\n",
       "      <td>52207</td>\n",
       "      <td>52211</td>\n",
       "      <td>52215</td>\n",
       "      <td>52222</td>\n",
       "      <td>52232</td>\n",
       "      <td>52232</td>\n",
       "      <td>52236</td>\n",
       "    </tr>\n",
       "  </tbody>\n",
       "</table>\n",
       "</div>"
      ],
      "text/plain": [
       "   infire_day_1  infire_day_2  infire_day_3  infire_day_4  infire_day_5  \\\n",
       "0        362251        362248        362244        362240        362233   \n",
       "1         52204         52207         52211         52215         52222   \n",
       "\n",
       "   infire_day_6  infire_day_7  infire_day_8  \n",
       "0        362223        362223        362219  \n",
       "1         52232         52232         52236  "
      ]
     },
     "execution_count": 19,
     "metadata": {},
     "output_type": "execute_result"
    }
   ],
   "source": [
    "train[['infire_day_1', 'infire_day_2', 'infire_day_3',\n",
    "       'infire_day_4', 'infire_day_5', 'infire_day_6',\n",
    "       'infire_day_7', 'infire_day_8']].apply(pd.Series.value_counts)"
   ]
  },
  {
   "cell_type": "code",
   "execution_count": 20,
   "metadata": {
    "colab": {
     "base_uri": "https://localhost:8080/",
     "height": 0
    },
    "id": "_mVYK4mYmfiW",
    "outputId": "21ab7e42-3754-4396-db4e-499e9c0db606"
   },
   "outputs": [
    {
     "data": {
      "text/html": [
       "<div>\n",
       "<style scoped>\n",
       "    .dataframe tbody tr th:only-of-type {\n",
       "        vertical-align: middle;\n",
       "    }\n",
       "\n",
       "    .dataframe tbody tr th {\n",
       "        vertical-align: top;\n",
       "    }\n",
       "\n",
       "    .dataframe thead th {\n",
       "        text-align: right;\n",
       "    }\n",
       "</style>\n",
       "<table border=\"1\" class=\"dataframe\">\n",
       "  <thead>\n",
       "    <tr style=\"text-align: right;\">\n",
       "      <th></th>\n",
       "      <th>infire_day_1</th>\n",
       "      <th>infire_day_2</th>\n",
       "      <th>infire_day_3</th>\n",
       "      <th>infire_day_4</th>\n",
       "      <th>infire_day_5</th>\n",
       "      <th>infire_day_6</th>\n",
       "      <th>infire_day_7</th>\n",
       "      <th>infire_day_8</th>\n",
       "    </tr>\n",
       "  </thead>\n",
       "  <tbody>\n",
       "    <tr>\n",
       "      <th>0</th>\n",
       "      <td>68472</td>\n",
       "      <td>68014</td>\n",
       "      <td>67461</td>\n",
       "      <td>67032</td>\n",
       "      <td>66529</td>\n",
       "      <td>65892</td>\n",
       "      <td>65406</td>\n",
       "      <td>64782</td>\n",
       "    </tr>\n",
       "    <tr>\n",
       "      <th>1</th>\n",
       "      <td>5176</td>\n",
       "      <td>5634</td>\n",
       "      <td>6187</td>\n",
       "      <td>6616</td>\n",
       "      <td>7119</td>\n",
       "      <td>7756</td>\n",
       "      <td>8242</td>\n",
       "      <td>8866</td>\n",
       "    </tr>\n",
       "  </tbody>\n",
       "</table>\n",
       "</div>"
      ],
      "text/plain": [
       "   infire_day_1  infire_day_2  infire_day_3  infire_day_4  infire_day_5  \\\n",
       "0         68472         68014         67461         67032         66529   \n",
       "1          5176          5634          6187          6616          7119   \n",
       "\n",
       "   infire_day_6  infire_day_7  infire_day_8  \n",
       "0         65892         65406         64782  \n",
       "1          7756          8242          8866  "
      ]
     },
     "execution_count": 20,
     "metadata": {},
     "output_type": "execute_result"
    }
   ],
   "source": [
    "val[['infire_day_1', 'infire_day_2', 'infire_day_3',\n",
    "       'infire_day_4', 'infire_day_5', 'infire_day_6',\n",
    "       'infire_day_7', 'infire_day_8']].apply(pd.Series.value_counts)"
   ]
  },
  {
   "cell_type": "markdown",
   "metadata": {
    "id": "nK4x6r4_5pCF"
   },
   "source": [
    "<a id='part1.3'></a>\n",
    "<h2 align=\"center\">1.3 OpenStreetMap</h2>"
   ]
  },
  {
   "cell_type": "markdown",
   "metadata": {
    "id": "FcjkNXFagPHe"
   },
   "source": [
    "### Скачиваем информацию используя `OSMPythonTools` по ключу [Key:place](https://wiki.openstreetmap.org/wiki/Key:place)\n",
    "\n",
    "- Обратите внимание на [Key:natural](https://wiki.openstreetmap.org/wiki/Key:natural)\n",
    "- если загрузка слишком долгая, можно воспользоваться веб-сервисом `https://overpass-turbo.eu/#`, выполнить запрос, экспортировать в файл, например `.geojson`. (При обращении к api есть квота по ip)\n",
    "\n",
    "Пример запроса к веб-сервису, который идентичен коду ниже:\n",
    "\n",
    "```\n",
    "[out:json][timeout:1000];\n",
    "area(3600060189)->.searchArea;\n",
    "(\n",
    "  node[\"place\"~\"city|town|village\"](area.searchArea);\n",
    "  way[\"place\"~\"city|town|village\"](area.searchArea);\n",
    "  relation[\"place\"~\"city|town|village\"](area.searchArea);\n",
    ");\n",
    "out body;\n",
    ">;\n",
    "\n",
    "```  \n",
    "\n",
    ">**NOTE**: файл **city_town_village.geojson** получен именно таким образом"
   ]
  },
  {
   "cell_type": "code",
   "execution_count": 21,
   "metadata": {
    "id": "-31VWefL5-FO"
   },
   "outputs": [],
   "source": [
    "# nominatim = Nominatim()\n",
    "# areaId = nominatim.query('Россия').areaId()\n",
    "# areaId"
   ]
  },
  {
   "cell_type": "code",
   "execution_count": 22,
   "metadata": {
    "id": "_zB3NUbM6PR6"
   },
   "outputs": [],
   "source": [
    "# overpass = Overpass()\n",
    "# query = overpassQueryBuilder(area=areaId, elementType=['node', 'way', 'relation'], selector='\"place\"~\"city|town|village\"')\n",
    "# result = overpass.query(query, timeout=1000)\n",
    "# res_json = result.toJSON()"
   ]
  },
  {
   "cell_type": "markdown",
   "metadata": {
    "id": "_8WwnnZtnlfG"
   },
   "source": [
    "### Загружаем `.geojson` в `geopandas`"
   ]
  },
  {
   "cell_type": "markdown",
   "metadata": {},
   "source": [
    "Итак, мы получили файл `*.geojson` одним из двух способов, далее будем работать с ним с помощью библиотеки `geopandas`.\n",
    "> **NOTE**: Для примера, выбраны не все потенциально полезные столбцы;  \n",
    "Также можно учесть, что значение признака `population` было зафиксировано на определенную дату. В данном бейзлайне пренебрегаем возможным `data leakage` и не актуальным значением."
   ]
  },
  {
   "cell_type": "code",
   "execution_count": 23,
   "metadata": {
    "colab": {
     "base_uri": "https://localhost:8080/",
     "height": 0
    },
    "id": "1471sqVu_uyc",
    "outputId": "d5b922ac-ddec-48e5-8e6e-7423b6a7c395"
   },
   "outputs": [
    {
     "data": {
      "text/html": [
       "<div>\n",
       "<style scoped>\n",
       "    .dataframe tbody tr th:only-of-type {\n",
       "        vertical-align: middle;\n",
       "    }\n",
       "\n",
       "    .dataframe tbody tr th {\n",
       "        vertical-align: top;\n",
       "    }\n",
       "\n",
       "    .dataframe thead th {\n",
       "        text-align: right;\n",
       "    }\n",
       "</style>\n",
       "<table border=\"1\" class=\"dataframe\">\n",
       "  <thead>\n",
       "    <tr style=\"text-align: right;\">\n",
       "      <th></th>\n",
       "      <th>admin_level</th>\n",
       "      <th>name</th>\n",
       "      <th>population</th>\n",
       "      <th>population:date</th>\n",
       "      <th>place</th>\n",
       "      <th>geometry</th>\n",
       "      <th>lon</th>\n",
       "      <th>lat</th>\n",
       "    </tr>\n",
       "  </thead>\n",
       "  <tbody>\n",
       "    <tr>\n",
       "      <th>0</th>\n",
       "      <td>3</td>\n",
       "      <td>Новосибирск</td>\n",
       "      <td>1625600</td>\n",
       "      <td>2020-01-01</td>\n",
       "      <td>city</td>\n",
       "      <td>POINT (82.92345 55.02822)</td>\n",
       "      <td>82.923451</td>\n",
       "      <td>55.028217</td>\n",
       "    </tr>\n",
       "    <tr>\n",
       "      <th>1</th>\n",
       "      <td>None</td>\n",
       "      <td>Невель</td>\n",
       "      <td>16272</td>\n",
       "      <td>None</td>\n",
       "      <td>town</td>\n",
       "      <td>POINT (29.91713 56.01762)</td>\n",
       "      <td>29.917128</td>\n",
       "      <td>56.017616</td>\n",
       "    </tr>\n",
       "    <tr>\n",
       "      <th>2</th>\n",
       "      <td>None</td>\n",
       "      <td>Кандалакша</td>\n",
       "      <td>30575</td>\n",
       "      <td>2019-01-01</td>\n",
       "      <td>town</td>\n",
       "      <td>POINT (32.41306 67.15144)</td>\n",
       "      <td>32.413055</td>\n",
       "      <td>67.151442</td>\n",
       "    </tr>\n",
       "    <tr>\n",
       "      <th>3</th>\n",
       "      <td>6</td>\n",
       "      <td>Апатиты</td>\n",
       "      <td>55713</td>\n",
       "      <td>2018-01-01</td>\n",
       "      <td>town</td>\n",
       "      <td>POINT (33.40439 67.56863)</td>\n",
       "      <td>33.404392</td>\n",
       "      <td>67.568626</td>\n",
       "    </tr>\n",
       "    <tr>\n",
       "      <th>4</th>\n",
       "      <td>None</td>\n",
       "      <td>Калевала</td>\n",
       "      <td>3855</td>\n",
       "      <td>2019-01-01</td>\n",
       "      <td>town</td>\n",
       "      <td>POINT (31.18017 65.20010)</td>\n",
       "      <td>31.180172</td>\n",
       "      <td>65.200096</td>\n",
       "    </tr>\n",
       "  </tbody>\n",
       "</table>\n",
       "</div>"
      ],
      "text/plain": [
       "  admin_level         name population population:date place  \\\n",
       "0           3  Новосибирск    1625600      2020-01-01  city   \n",
       "1        None       Невель      16272            None  town   \n",
       "2        None   Кандалакша      30575      2019-01-01  town   \n",
       "3           6      Апатиты      55713      2018-01-01  town   \n",
       "4        None     Калевала       3855      2019-01-01  town   \n",
       "\n",
       "                    geometry        lon        lat  \n",
       "0  POINT (82.92345 55.02822)  82.923451  55.028217  \n",
       "1  POINT (29.91713 56.01762)  29.917128  56.017616  \n",
       "2  POINT (32.41306 67.15144)  32.413055  67.151442  \n",
       "3  POINT (33.40439 67.56863)  33.404392  67.568626  \n",
       "4  POINT (31.18017 65.20010)  31.180172  65.200096  "
      ]
     },
     "execution_count": 23,
     "metadata": {},
     "output_type": "execute_result"
    }
   ],
   "source": [
    "cities_df = gpd.read_file('input/city_town_village.geojson')\n",
    "cities_df = cities_df[['admin_level', 'name', 'population', 'population:date', 'place', 'geometry']]\n",
    "cities_df = cities_df[cities_df.place != 'city_block'].reset_index(drop=True)\n",
    "cities_df['lon'] = cities_df['geometry'].x\n",
    "cities_df['lat'] = cities_df['geometry'].y\n",
    "\n",
    "cities_df.loc[cities_df.lon < 0, 'lon'] += 360\n",
    "cities_df.loc[cities_df.population.notna(), 'population'] = cities_df[cities_df.population.notna()]\\\n",
    "                            .population.apply(helpers.split_string).str.replace(\" \", \"\").astype(int)\n",
    "cities_df.head()"
   ]
  },
  {
   "cell_type": "markdown",
   "metadata": {
    "id": "Cmh_iruppxuo"
   },
   "source": [
    "### Переводим значения city_lon и city_lat к нашей сетке"
   ]
  },
  {
   "cell_type": "markdown",
   "metadata": {},
   "source": [
    "Координаты центра каждого поселения переводим в рамки наших границ ячеек, как в таргетах"
   ]
  },
  {
   "cell_type": "code",
   "execution_count": 24,
   "metadata": {
    "colab": {
     "base_uri": "https://localhost:8080/",
     "height": 0
    },
    "id": "x6FS3h4Ot4qa",
    "outputId": "c4a09346-81df-49ae-eb0e-09252103f064"
   },
   "outputs": [],
   "source": [
    "cities_df = helpers.add_edges_polygon(cities_df)\n",
    "cities_df = cities_df[(cities_df.lon_max <= lon_max) &\\\n",
    "                      (cities_df.lon_min >= lon_min) &\\\n",
    "                      (cities_df.lat_min >= lat_min) &\\\n",
    "                      (cities_df.lat_max <= lat_max)].reset_index(drop=True)"
   ]
  },
  {
   "cell_type": "markdown",
   "metadata": {
    "id": "Sau_ufZqu0xU"
   },
   "source": [
    "### Добавляем `grid_index` для городов"
   ]
  },
  {
   "cell_type": "markdown",
   "metadata": {},
   "source": [
    "После того как мы добавили границы для ячейки размера 0.2 x 0.2 широты - долготы, можем добавить `grid_index`"
   ]
  },
  {
   "cell_type": "code",
   "execution_count": 25,
   "metadata": {
    "colab": {
     "base_uri": "https://localhost:8080/",
     "height": 0
    },
    "id": "q9ax0VySu6Ic",
    "outputId": "1a6187b0-183e-4c42-b13a-c72acaa199b1"
   },
   "outputs": [],
   "source": [
    "cities_df = helpers.get_grid_index(cities_df, array_of_lons, array_of_lats)"
   ]
  },
  {
   "cell_type": "markdown",
   "metadata": {
    "id": "pbHE_uKl3cgj"
   },
   "source": [
    "### Переименовываем для удобства"
   ]
  },
  {
   "cell_type": "code",
   "execution_count": 26,
   "metadata": {
    "colab": {
     "base_uri": "https://localhost:8080/",
     "height": 0
    },
    "id": "se2iDF4h3L7K",
    "outputId": "2253c05a-7e5f-46d3-d4e4-346fa5484333"
   },
   "outputs": [
    {
     "data": {
      "text/html": [
       "<div>\n",
       "<style scoped>\n",
       "    .dataframe tbody tr th:only-of-type {\n",
       "        vertical-align: middle;\n",
       "    }\n",
       "\n",
       "    .dataframe tbody tr th {\n",
       "        vertical-align: top;\n",
       "    }\n",
       "\n",
       "    .dataframe thead th {\n",
       "        text-align: right;\n",
       "    }\n",
       "</style>\n",
       "<table border=\"1\" class=\"dataframe\">\n",
       "  <thead>\n",
       "    <tr style=\"text-align: right;\">\n",
       "      <th></th>\n",
       "      <th>admin_level</th>\n",
       "      <th>name</th>\n",
       "      <th>population</th>\n",
       "      <th>population:date</th>\n",
       "      <th>place</th>\n",
       "      <th>geometry</th>\n",
       "      <th>city_lon</th>\n",
       "      <th>city_lat</th>\n",
       "      <th>lon_min</th>\n",
       "      <th>lon_max</th>\n",
       "      <th>lat_min</th>\n",
       "      <th>lat_max</th>\n",
       "      <th>grid_index</th>\n",
       "    </tr>\n",
       "  </thead>\n",
       "  <tbody>\n",
       "    <tr>\n",
       "      <th>0</th>\n",
       "      <td>3</td>\n",
       "      <td>Новосибирск</td>\n",
       "      <td>1625600</td>\n",
       "      <td>2020-01-01</td>\n",
       "      <td>city</td>\n",
       "      <td>POINT (82.92345 55.02822)</td>\n",
       "      <td>82.923451</td>\n",
       "      <td>55.028217</td>\n",
       "      <td>82.8</td>\n",
       "      <td>83.0</td>\n",
       "      <td>55.0</td>\n",
       "      <td>55.2</td>\n",
       "      <td>52819</td>\n",
       "    </tr>\n",
       "    <tr>\n",
       "      <th>1</th>\n",
       "      <td>None</td>\n",
       "      <td>Невель</td>\n",
       "      <td>16272</td>\n",
       "      <td>None</td>\n",
       "      <td>town</td>\n",
       "      <td>POINT (29.91713 56.01762)</td>\n",
       "      <td>29.917128</td>\n",
       "      <td>56.017616</td>\n",
       "      <td>29.8</td>\n",
       "      <td>30.0</td>\n",
       "      <td>56.0</td>\n",
       "      <td>56.2</td>\n",
       "      <td>56304</td>\n",
       "    </tr>\n",
       "    <tr>\n",
       "      <th>2</th>\n",
       "      <td>None</td>\n",
       "      <td>Кандалакша</td>\n",
       "      <td>30575</td>\n",
       "      <td>2019-01-01</td>\n",
       "      <td>town</td>\n",
       "      <td>POINT (32.41306 67.15144)</td>\n",
       "      <td>32.413055</td>\n",
       "      <td>67.151442</td>\n",
       "      <td>32.4</td>\n",
       "      <td>32.6</td>\n",
       "      <td>67.0</td>\n",
       "      <td>67.2</td>\n",
       "      <td>97567</td>\n",
       "    </tr>\n",
       "    <tr>\n",
       "      <th>3</th>\n",
       "      <td>6</td>\n",
       "      <td>Апатиты</td>\n",
       "      <td>55713</td>\n",
       "      <td>2018-01-01</td>\n",
       "      <td>town</td>\n",
       "      <td>POINT (33.40439 67.56863)</td>\n",
       "      <td>33.404392</td>\n",
       "      <td>67.568626</td>\n",
       "      <td>33.4</td>\n",
       "      <td>33.6</td>\n",
       "      <td>67.4</td>\n",
       "      <td>67.6</td>\n",
       "      <td>99072</td>\n",
       "    </tr>\n",
       "    <tr>\n",
       "      <th>4</th>\n",
       "      <td>None</td>\n",
       "      <td>Калевала</td>\n",
       "      <td>3855</td>\n",
       "      <td>2019-01-01</td>\n",
       "      <td>town</td>\n",
       "      <td>POINT (31.18017 65.20010)</td>\n",
       "      <td>31.180172</td>\n",
       "      <td>65.200096</td>\n",
       "      <td>31.0</td>\n",
       "      <td>31.2</td>\n",
       "      <td>65.2</td>\n",
       "      <td>65.4</td>\n",
       "      <td>90810</td>\n",
       "    </tr>\n",
       "  </tbody>\n",
       "</table>\n",
       "</div>"
      ],
      "text/plain": [
       "  admin_level         name population population:date place  \\\n",
       "0           3  Новосибирск    1625600      2020-01-01  city   \n",
       "1        None       Невель      16272            None  town   \n",
       "2        None   Кандалакша      30575      2019-01-01  town   \n",
       "3           6      Апатиты      55713      2018-01-01  town   \n",
       "4        None     Калевала       3855      2019-01-01  town   \n",
       "\n",
       "                    geometry   city_lon   city_lat  lon_min  lon_max  lat_min  \\\n",
       "0  POINT (82.92345 55.02822)  82.923451  55.028217     82.8     83.0     55.0   \n",
       "1  POINT (29.91713 56.01762)  29.917128  56.017616     29.8     30.0     56.0   \n",
       "2  POINT (32.41306 67.15144)  32.413055  67.151442     32.4     32.6     67.0   \n",
       "3  POINT (33.40439 67.56863)  33.404392  67.568626     33.4     33.6     67.4   \n",
       "4  POINT (31.18017 65.20010)  31.180172  65.200096     31.0     31.2     65.2   \n",
       "\n",
       "   lat_max  grid_index  \n",
       "0     55.2       52819  \n",
       "1     56.2       56304  \n",
       "2     67.2       97567  \n",
       "3     67.6       99072  \n",
       "4     65.4       90810  "
      ]
     },
     "execution_count": 26,
     "metadata": {},
     "output_type": "execute_result"
    }
   ],
   "source": [
    "cities_df.rename(columns={'lon': 'city_lon',\n",
    "                          'lat': 'city_lat'}, inplace=True)\n",
    "cities_df.head()"
   ]
  },
  {
   "cell_type": "markdown",
   "metadata": {},
   "source": [
    "---"
   ]
  },
  {
   "cell_type": "markdown",
   "metadata": {},
   "source": [
    "<a id='part2'></a>\n",
    "<h1 align=\"center\">2. Генерация признаков</h1>"
   ]
  },
  {
   "cell_type": "markdown",
   "metadata": {},
   "source": [
    "<a id='part2.1'></a>\n",
    "<h2 align=\"center\">2.1 Pooling features</h2>"
   ]
  },
  {
   "cell_type": "markdown",
   "metadata": {},
   "source": [
    "![](https://habrastorage.org/webt/dy/w1/_k/dyw1_kokc_kch6f-d37esfptjbw.jpeg)"
   ]
  },
  {
   "cell_type": "markdown",
   "metadata": {},
   "source": [
    "Так как в нашем датасете у таргетов размер ячеек 0.2 x 0.2, а у климатических признаков частота измерений 0.1, мы можем использовать либо всю матрицу 0.2 х 0.2 целиком, либо использовать `pooling` c `kernel_size` = 3 и `stride` = 2"
   ]
  },
  {
   "cell_type": "markdown",
   "metadata": {},
   "source": [
    "### Считаем `pooling features`\n",
    "И сразу переводим в так называемый `grid_index`, по которому в дальнейшем будем матчить с таргетами и сохраняем полученные тензоры в `additional_data/`"
   ]
  },
  {
   "cell_type": "markdown",
   "metadata": {},
   "source": [
    "> **NOTE**: \n",
    "> - Так как для обучения мы взяли данные **только** с 2020 года, соответственно считаем `poolling features` также только для данных с 2020 года;  \n",
    "> - Выберем все доступные признаки из климатических"
   ]
  },
  {
   "cell_type": "code",
   "execution_count": 27,
   "metadata": {
    "scrolled": true
   },
   "outputs": [
    {
     "name": "stdout",
     "output_type": "stream",
     "text": [
      "CPU times: user 6min 8s, sys: 1min 8s, total: 7min 16s\n",
      "Wall time: 9min 18s\n"
     ]
    }
   ],
   "source": [
    "%%time\n",
    "\n",
    "PATH_TO_ADD_DATA = 'additional_data/'\n",
    "\n",
    "grib_list = [el.split('.')[0] for el in os.listdir(\"input/ERA5_data\")\\\n",
    "             if el.startswith((\"temp\", \"wind\",\n",
    "                               \"evaporation1\", \"evaporation2\",\n",
    "                               \"heat1\", \"heat2\", \"vegetation\")) and el.endswith(('2020.grib', '2021.grib'))]\n",
    "\n",
    "for file_name in grib_list:\n",
    "    preprocessing.make_pool_features(\"input/ERA5_data\",\n",
    "                                     file_name, PATH_TO_ADD_DATA)"
   ]
  },
  {
   "cell_type": "markdown",
   "metadata": {},
   "source": [
    "### Добавляем признаки из подготовленного тензорного представления"
   ]
  },
  {
   "cell_type": "code",
   "execution_count": 28,
   "metadata": {
    "scrolled": true
   },
   "outputs": [
    {
     "name": "stdout",
     "output_type": "stream",
     "text": [
      "CPU times: user 10min 55s, sys: 59.4 s, total: 11min 55s\n",
      "Wall time: 12min 16s\n"
     ]
    }
   ],
   "source": [
    "%%time\n",
    "PATH_TO_ADD_DATA = 'additional_data/'\n",
    "train = features_generation.add_pooling_features(train, PATH_TO_ADD_DATA, count_lag=3)\n",
    "val = features_generation.add_pooling_features(val, PATH_TO_ADD_DATA, count_lag=3)"
   ]
  },
  {
   "cell_type": "markdown",
   "metadata": {},
   "source": [
    "<a id='part2.2'></a>\n",
    "<h2 align=\"center\">2.2 Categorical признаки даты</h2>"
   ]
  },
  {
   "cell_type": "markdown",
   "metadata": {},
   "source": [
    "Добавляем в качестве категориальных признаков - месяц, день месяца, неделя с начала года, день недели."
   ]
  },
  {
   "cell_type": "code",
   "execution_count": 29,
   "metadata": {},
   "outputs": [],
   "source": [
    "train = features_generation.add_cat_date_features(train)\n",
    "val = features_generation.add_cat_date_features(val)"
   ]
  },
  {
   "cell_type": "markdown",
   "metadata": {},
   "source": [
    "<a id='part2.3'></a>\n",
    "<h2 align=\"center\">2.3 Гео признаки</h2>"
   ]
  },
  {
   "cell_type": "markdown",
   "metadata": {},
   "source": [
    "****Добавляем признаки полученные из `OpenStreetMap`****:\n",
    "- **distance_to_nearest_city** - расстояние до ближайшего населенного пункта;\n",
    "- **place** - тип населенного пункта;\n",
    "- **population** - численность населения"
   ]
  },
  {
   "cell_type": "code",
   "execution_count": 30,
   "metadata": {},
   "outputs": [
    {
     "name": "stdout",
     "output_type": "stream",
     "text": [
      "CPU times: user 22.5 s, sys: 436 ms, total: 22.9 s\n",
      "Wall time: 23 s\n"
     ]
    }
   ],
   "source": [
    "%%time\n",
    "train = features_generation.add_geo_features(train, cities_df)\n",
    "val = features_generation.add_geo_features(val, cities_df)"
   ]
  },
  {
   "cell_type": "markdown",
   "metadata": {},
   "source": [
    "---"
   ]
  },
  {
   "cell_type": "markdown",
   "metadata": {},
   "source": [
    "<a id='part3'></a>\n",
    "<h1 align=\"center\">3. Обучение моделей</h1>"
   ]
  },
  {
   "cell_type": "markdown",
   "metadata": {},
   "source": [
    "Итак, наш датасет готов, можем приступать к обучению.  \n",
    "В качестве бейзлайна выбрана модель `CatBoostClassifier`.\n",
    "> **NOTE**: \n",
    "> - для каждого из таргетов будем обучать классификатор отдельно\n",
    "> - мы не прогнозируем как быстро пожар будут тушить, это зависит от многих факторов и не является приоритетным для данной задачи, поэтому изменим таргеты, так же, как и при расчете метрики, подробности в `README.MD`\n",
    "> - добавим девятую модель - многоклассовую классификацию для предсказания начала пожара, с помощью этой модели будем модифицировать наши предсказания/или же только ее использовать для предсказаний"
   ]
  },
  {
   "cell_type": "code",
   "execution_count": 31,
   "metadata": {},
   "outputs": [
    {
     "data": {
      "text/plain": [
       "[201, 203, 204, 205, 206]"
      ]
     },
     "execution_count": 31,
     "metadata": {},
     "output_type": "execute_result"
    }
   ],
   "source": [
    "cat_features = ['month', 'day', 'weekofyear', 'dayofweek', 'place']\n",
    "cat_features = train[FEATURES].columns.intersection(cat_features)\n",
    "cat_features = [train[FEATURES].columns.get_loc(feat) for feat in cat_features]\n",
    "cat_features"
   ]
  },
  {
   "cell_type": "markdown",
   "metadata": {},
   "source": [
    "<a id='part3.2'></a>\n",
    "<h2 align=\"center\">Модель для каждого таргета</h2>"
   ]
  },
  {
   "cell_type": "markdown",
   "metadata": {},
   "source": [
    "#### Изменим таргеты в соответствии с метрикой"
   ]
  },
  {
   "cell_type": "code",
   "execution_count": 35,
   "metadata": {},
   "outputs": [],
   "source": [
    "train_targets = (\n",
    "    train_targets.replace(0, np.nan).fillna(axis=1, method=\"ffill\").fillna(0).astype(int)\n",
    ")\n",
    "\n",
    "val_targets = (\n",
    "    val_targets.replace(0, np.nan).fillna(axis=1, method=\"ffill\").fillna(0).astype(int)\n",
    ")"
   ]
  },
  {
   "cell_type": "code",
   "execution_count": 36,
   "metadata": {},
   "outputs": [],
   "source": [
    "models = []\n",
    "for i in range(8):\n",
    "    train_dataset = Pool(data=train[FEATURES],\n",
    "                        label=train_targets.iloc[:,i],\n",
    "                        cat_features=cat_features)\n",
    "\n",
    "    eval_dataset = Pool(data=val[FEATURES],\n",
    "                        label=val_targets.iloc[:,i],\n",
    "                        cat_features=cat_features)\n",
    "    model = CatBoostClassifier(iterations=100, random_seed=i+1, eval_metric='F1', auto_class_weights=\"Balanced\")\n",
    "    model.fit(train_dataset,\n",
    "              eval_set=eval_dataset,\n",
    "              verbose=False)\n",
    "    models.append(model)"
   ]
  },
  {
   "cell_type": "markdown",
   "metadata": {},
   "source": [
    "### Сохраняем модели в `models/`"
   ]
  },
  {
   "cell_type": "code",
   "execution_count": 37,
   "metadata": {},
   "outputs": [],
   "source": [
    "if not os.path.exists(\"models/\"):\n",
    "    os.mkdir(\"models/\")\n",
    "for idx, model in enumerate(models):\n",
    "    path_to_model = f\"models/model_{idx+1}_day.pkl\"\n",
    "\n",
    "    with open(path_to_model, 'wb') as f:  \n",
    "        pickle.dump(model, f)"
   ]
  },
  {
   "cell_type": "markdown",
   "metadata": {},
   "source": [
    "---"
   ]
  },
  {
   "cell_type": "markdown",
   "metadata": {},
   "source": [
    "<a id='part4'></a>\n",
    "<h1 align=\"center\">4. sample_submission.zip</h1>"
   ]
  },
  {
   "cell_type": "markdown",
   "metadata": {},
   "source": [
    "В качестве решения от участников требуется архив `*.zip`:\n",
    "\n",
    "```\n",
    ".\n",
    "├── features_generation.py\n",
    "├── helpers.py\n",
    "├── metadata.json\n",
    "├── models\n",
    "│   ├── model_1_day.pkl\n",
    "│   ├── model_2_day.pkl\n",
    "│   ├── model_3_day.pkl\n",
    "│   ├── model_4_day.pkl\n",
    "│   ├── model_5_day.pkl\n",
    "│   ├── model_6_day.pkl\n",
    "│   ├── model_7_day.pkl\n",
    "│   ├── model_8_day.pkl\n",
    "│   \n",
    "├── prepare_train.py\n",
    "├── preprocessing.py\n",
    "└── solution.py\n",
    "\n",
    "```\n",
    "\n",
    "- В директории `models/` обязательно должны быть файлы с моделями.\n",
    "- В директории `additional_data/` могут быть дополнительные данные для обучения модели; Директории может не быть.\n",
    "- Помимо обязательного модуля `solution.py` могут быть вспомогательные модули.\n",
    "- Файл `metadata.json` содержит название `docker image` и команду для расчета предсказаний -  `output.csv` таблицы, которая связана с датасетом `test.csv` с помощью поля `id`:\n",
    "```\n",
    "id, infire_day_1,infire_day_2,infire_day_3,infire_day_4,infire_day_5,infire_day_6,infire_day_7,infire_day_8\n",
    "0,0,0,0,0,0,0,0,0\n",
    "1,0,0,0,0,0,0,0,0\n",
    "2,0,0,0,0,0,0,0,0\n",
    "```"
   ]
  },
  {
   "cell_type": "code",
   "execution_count": 38,
   "metadata": {},
   "outputs": [],
   "source": [
    "!zip -r my_submission.zip *.py models/ metadata.json >/dev/null"
   ]
  },
  {
   "cell_type": "markdown",
   "metadata": {},
   "source": [
    "---"
   ]
  }
 ],
 "metadata": {
  "colab": {
   "authorship_tag": "ABX9TyMBTDHO9mGEsdw5tF0d0SNK",
   "collapsed_sections": [
    "F5C9HLdWeu09",
    "EVEwIdjpeb0x",
    "djlozDusXsvS",
    "v9xizznG4xyG",
    "euQc4ZKZe53A",
    "8rQ3V7MLpvZ1",
    "g0WBBvvPXVdO",
    "-7PsIk2T15qg",
    "QfbaBUS8mEzs",
    "vPFtP_pZmvcX",
    "Kg22jlz5ufMB",
    "nK4x6r4_5pCF",
    "FcjkNXFagPHe",
    "_8WwnnZtnlfG",
    "Cmh_iruppxuo",
    "Sau_ufZqu0xU",
    "pbHE_uKl3cgj",
    "thrtKQK_rYbz",
    "Vck3DvxhATwL",
    "jj9u0GsqM9yh",
    "0LRQ8-4IgcdX"
   ],
   "include_colab_link": true,
   "machine_shape": "hm",
   "name": "5.Baseline.ipynb",
   "provenance": [],
   "toc_visible": true
  },
  "kernelspec": {
   "display_name": "Python 3",
   "language": "python",
   "name": "python3"
  },
  "language_info": {
   "codemirror_mode": {
    "name": "ipython",
    "version": 3
   },
   "file_extension": ".py",
   "mimetype": "text/x-python",
   "name": "python",
   "nbconvert_exporter": "python",
   "pygments_lexer": "ipython3",
   "version": "3.8.3"
  }
 },
 "nbformat": 4,
 "nbformat_minor": 1
}
